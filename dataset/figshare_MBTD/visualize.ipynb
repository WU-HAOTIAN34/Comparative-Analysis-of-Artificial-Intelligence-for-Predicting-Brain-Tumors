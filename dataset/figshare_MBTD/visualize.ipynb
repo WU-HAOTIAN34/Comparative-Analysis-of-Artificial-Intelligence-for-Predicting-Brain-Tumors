{
 "cells": [
  {
   "cell_type": "code",
   "execution_count": 19,
   "metadata": {},
   "outputs": [
    {
     "name": "stderr",
     "output_type": "stream",
     "text": [
      "100%|██████████| 3064/3064 [03:45<00:00, 13.57it/s]"
     ]
    },
    {
     "name": "stdout",
     "output_type": "stream",
     "text": [
      "709\n",
      "1427\n",
      "931\n"
     ]
    },
    {
     "name": "stderr",
     "output_type": "stream",
     "text": [
      "\n"
     ]
    }
   ],
   "source": [
    "import h5py\n",
    "import numpy as np\n",
    "import matplotlib.pyplot as plt\n",
    "from PIL import Image\n",
    "from tqdm import tqdm\n",
    "import os\n",
    "\n",
    "meningioma_num = 1\n",
    "glioma_num = 1\n",
    "pituitary_num = 1\n",
    "\n",
    "data_path = '/root/autodl-tmp/dataset/figshare_MBTD/original_mat/data'\n",
    "\n",
    "for file in tqdm(os.listdir(data_path)):\n",
    "    file = h5py.File(os.path.join(data_path, file), 'r')\n",
    "    cjdata = file.get('cjdata')\n",
    "    image = np.array(cjdata.get('image'))\n",
    "    labels = np.array(cjdata.get('label'))\n",
    "    file.close()\n",
    "    if labels[0] == 1.0:\n",
    "        plt.imsave(f'/root/autodl-tmp/dataset/figshare_MBTD/original/meningioma/meningioma-{meningioma_num}.png', image, cmap='gray')\n",
    "        meningioma_num  = meningioma_num + 1\n",
    "    elif labels[0] == 2.0:\n",
    "        plt.imsave(f'/root/autodl-tmp/dataset/figshare_MBTD/original/glioma/glioma-{glioma_num}.png', image, cmap='gray')\n",
    "        glioma_num = 1 + glioma_num\n",
    "    elif labels[0] == 3.0:\n",
    "        plt.imsave(f'/root/autodl-tmp/dataset/figshare_MBTD/original/pituitary/pituitary-{pituitary_num}.png', image, cmap='gray')\n",
    "        pituitary_num = pituitary_num + 1\n",
    "\n",
    "print(meningioma_num)\n",
    "print(glioma_num)\n",
    "print(pituitary_num)"
   ]
  }
 ],
 "metadata": {
  "interpreter": {
   "hash": "8c32d066b5d042215e37ed59dc01b6d8f807db99e8ebf2b07aaac81c11f6f420"
  },
  "kernelspec": {
   "display_name": "Python 3.8.18 ('tumor': conda)",
   "language": "python",
   "name": "python3"
  },
  "language_info": {
   "name": "python",
   "version": "3.8.18"
  },
  "orig_nbformat": 4
 },
 "nbformat": 4,
 "nbformat_minor": 2
}

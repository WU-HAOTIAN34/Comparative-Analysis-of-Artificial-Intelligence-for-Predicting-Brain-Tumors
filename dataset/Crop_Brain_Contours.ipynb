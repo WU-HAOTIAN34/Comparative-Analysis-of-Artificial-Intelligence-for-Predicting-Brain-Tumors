{
  "cells": [
    {
      "cell_type": "code",
      "execution_count": 1,
      "id": "9fccafdb",
      "metadata": {
        "id": "9fccafdb"
      },
      "outputs": [],
      "source": [
        "import numpy as np \n",
        "import cv2\n",
        "import os\n",
        "from tqdm import tqdm\n",
        "import matplotlib.pyplot as plt\n",
        "from PIL import Image\n",
        "from tqdm import tqdm\n",
        "\n"
      ]
    },
    {
      "cell_type": "code",
      "execution_count": 2,
      "id": "c339407f",
      "metadata": {},
      "outputs": [],
      "source": [
        "def crop_image(image, image2):\n",
        "    y_min = np.argmax(np.sum(image, axis=1)/image.shape[0] > 10)\n",
        "    y_max = image.shape[0] - np.argmax(np.flipud(np.sum(image, axis=1)/image.shape[0] > 10))\n",
        "    x_min = np.argmax(np.sum(image, axis=0)/image.shape[1] > 10)\n",
        "    x_max = image.shape[1] - np.argmax(np.flipud(np.sum(image, axis=0)/image.shape[1] > 10))\n",
        "    return image2[y_min:y_max, x_min:x_max, :]\n"
      ]
    },
    {
      "cell_type": "code",
      "execution_count": 3,
      "id": "c9602b1a",
      "metadata": {},
      "outputs": [],
      "source": [
        "def crop_images(filename, label, folder):\n",
        "    \n",
        "    data_path_from = os.path.join(filename, folder[0], 'Training')\n",
        "    data_path_to = os.path.join(filename, folder[1], 'Training')\n",
        "\n",
        "    for i in label:\n",
        "        folderPath_from = os.path.join(data_path_from,i)\n",
        "        folderPath_to = os.path.join(data_path_to,i)\n",
        "        num = 1\n",
        "        for file in tqdm(os.listdir(folderPath_from)):\n",
        "            file = cv2.imread(os.path.join(folderPath_from, file))  \n",
        "            image = cv2.cvtColor(file, cv2.COLOR_BGR2GRAY)\n",
        "            image = crop_image(image, file)\n",
        "            a = str(f'{i}-{num}.png')\n",
        "            plt.imsave(os.path.join(folderPath_to, a), image, cmap='gray')\n",
        "            num = num + 1\n",
        "    \n",
        "    data_path_from = os.path.join(filename, folder[0], 'Testing')\n",
        "    data_path_to = os.path.join(filename, folder[1], 'Testing')\n",
        "\n",
        "    for i in label:\n",
        "        folderPath_from = os.path.join(data_path_from,i)\n",
        "        folderPath_to = os.path.join(data_path_to,i)\n",
        "        num = 1\n",
        "        for file in tqdm(os.listdir(folderPath_from)):\n",
        "            file = cv2.imread(os.path.join(folderPath_from, file))  \n",
        "            image = cv2.cvtColor(file, cv2.COLOR_BGR2GRAY)    \n",
        "            image = crop_image(image, file)\n",
        "            a = str(f'{i}-{num}.png')\n",
        "            plt.imsave(os.path.join(folderPath_to, a), image, cmap='gray')\n",
        "            num = num + 1\n"
      ]
    },
    {
      "cell_type": "code",
      "execution_count": 4,
      "id": "6f633bb9",
      "metadata": {},
      "outputs": [
        {
          "name": "stderr",
          "output_type": "stream",
          "text": [
            "  0%|          | 0/826 [00:00<?, ?it/s]"
          ]
        },
        {
          "name": "stderr",
          "output_type": "stream",
          "text": [
            "100%|██████████| 826/826 [00:33<00:00, 24.38it/s]\n",
            "100%|██████████| 822/822 [00:29<00:00, 28.13it/s]\n",
            "100%|██████████| 395/395 [00:11<00:00, 35.50it/s]\n",
            "100%|██████████| 827/827 [00:41<00:00, 19.90it/s]\n",
            "100%|██████████| 100/100 [00:03<00:00, 31.07it/s]\n",
            "100%|██████████| 115/115 [00:02<00:00, 41.91it/s]\n",
            "100%|██████████| 105/105 [00:01<00:00, 90.50it/s]\n",
            "100%|██████████| 74/74 [00:06<00:00, 10.74it/s]\n"
          ]
        }
      ],
      "source": [
        "label = ['glioma', 'meningioma', 'notumor', 'pituitary']\n",
        "folder = ['original', 'cropped']\n",
        "crop_images('/root/autodl-tmp/dataset/SARTAJ_dataset', label, folder)"
      ]
    },
    {
      "cell_type": "code",
      "execution_count": 5,
      "id": "e971753f",
      "metadata": {},
      "outputs": [
        {
          "name": "stderr",
          "output_type": "stream",
          "text": [
            "100%|██████████| 1321/1321 [00:44<00:00, 29.38it/s]\n",
            "100%|██████████| 1339/1339 [00:45<00:00, 29.48it/s]\n",
            "100%|██████████| 1595/1595 [00:36<00:00, 43.27it/s]\n",
            "100%|██████████| 1457/1457 [01:09<00:00, 21.10it/s]\n",
            "100%|██████████| 300/300 [00:10<00:00, 29.67it/s]\n",
            "100%|██████████| 306/306 [00:09<00:00, 33.45it/s]\n",
            "100%|██████████| 405/405 [00:06<00:00, 61.57it/s]\n",
            "100%|██████████| 300/300 [00:14<00:00, 20.23it/s]\n"
          ]
        }
      ],
      "source": [
        "label = ['glioma', 'meningioma', 'notumor', 'pituitary']\n",
        "folder = ['original', 'cropped']\n",
        "crop_images('/root/autodl-tmp/dataset/Br35H+SARTAJ+figshare', label, folder)"
      ]
    },
    {
      "cell_type": "code",
      "execution_count": 4,
      "id": "8e35739f",
      "metadata": {},
      "outputs": [
        {
          "name": "stderr",
          "output_type": "stream",
          "text": [
            "100%|██████████| 1140/1140 [00:50<00:00, 22.45it/s]\n",
            "100%|██████████| 566/566 [00:26<00:00, 21.59it/s]\n",
            "100%|██████████| 744/744 [00:45<00:00, 16.48it/s]\n",
            "100%|██████████| 286/286 [00:12<00:00, 22.07it/s]\n",
            "100%|██████████| 142/142 [00:06<00:00, 22.19it/s]\n",
            "100%|██████████| 186/186 [00:11<00:00, 16.58it/s]\n"
          ]
        }
      ],
      "source": [
        "label = ['glioma', 'meningioma', 'pituitary']\n",
        "folder = ['splited', 'cropped']\n",
        "crop_images('/root/autodl-tmp/dataset/figshare_MBTD', label, folder)"
      ]
    },
    {
      "cell_type": "code",
      "execution_count": 4,
      "id": "95485473",
      "metadata": {},
      "outputs": [
        {
          "name": "stderr",
          "output_type": "stream",
          "text": [
            "100%|██████████| 1200/1200 [00:59<00:00, 20.06it/s]\n",
            "100%|██████████| 1200/1200 [00:36<00:00, 32.53it/s]\n",
            "100%|██████████| 300/300 [00:18<00:00, 16.24it/s]\n",
            "100%|██████████| 300/300 [00:08<00:00, 34.83it/s]\n"
          ]
        }
      ],
      "source": [
        "label = ['yes', 'no']\n",
        "folder = ['splited', 'cropped']\n",
        "crop_images('/root/autodl-tmp/dataset/Br35H', label, folder)"
      ]
    }
  ],
  "metadata": {
    "colab": {
      "provenance": []
    },
    "kernelspec": {
      "display_name": "Python 3",
      "language": "python",
      "name": "python3"
    },
    "language_info": {
      "codemirror_mode": {
        "name": "ipython",
        "version": 3
      },
      "file_extension": ".py",
      "mimetype": "text/x-python",
      "name": "python",
      "nbconvert_exporter": "python",
      "pygments_lexer": "ipython3",
      "version": "3.8.18"
    }
  },
  "nbformat": 4,
  "nbformat_minor": 5
}

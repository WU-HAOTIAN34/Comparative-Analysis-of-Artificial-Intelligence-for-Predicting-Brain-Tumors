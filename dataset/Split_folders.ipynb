{
  "cells": [
    {
      "cell_type": "code",
      "execution_count": 1,
      "metadata": {
        "id": "Ak4SWHJJqPch"
      },
      "outputs": [],
      "source": [
        "import splitfolders"
      ]
    },
    {
      "cell_type": "code",
      "execution_count": 4,
      "metadata": {
        "colab": {
          "base_uri": "https://localhost:8080/"
        },
        "id": "RHY8QZRBqPck",
        "outputId": "214ecaa9-2f4a-4100-db53-7b964d27da2e"
      },
      "outputs": [
        {
          "name": "stderr",
          "output_type": "stream",
          "text": [
            "Copying files: 3064 files [00:01, 2155.68 files/s]\n"
          ]
        }
      ],
      "source": [
        "# Split with a ratio.\n",
        "# To only split into training and validation set, set a tuple to `ratio`, i.e, `(.8, .2)`./\n",
        "splitfolders.ratio('/root/autodl-tmp/dataset/figshare_MBTD/original', output=\"/root/autodl-tmp/dataset/figshare_MBTD/splited\", seed=2, ratio=(.8, .2)) # default values\n",
        "\n"
      ]
    },
    {
      "cell_type": "code",
      "execution_count": 2,
      "metadata": {},
      "outputs": [
        {
          "name": "stderr",
          "output_type": "stream",
          "text": [
            "Copying files: 3000 files [00:00, 3685.94 files/s]\n"
          ]
        }
      ],
      "source": [
        "splitfolders.ratio('/root/autodl-tmp/dataset/Br35H/original/data', output=\"/root/autodl-tmp/dataset/Br35H/splited\", seed=2, ratio=(.8, .2)) # default values"
      ]
    }
  ],
  "metadata": {
    "colab": {
      "provenance": []
    },
    "kernelspec": {
      "display_name": "Python 3",
      "language": "python",
      "name": "python3"
    },
    "language_info": {
      "codemirror_mode": {
        "name": "ipython",
        "version": 3
      },
      "file_extension": ".py",
      "mimetype": "text/x-python",
      "name": "python",
      "nbconvert_exporter": "python",
      "pygments_lexer": "ipython3",
      "version": "3.8.18"
    }
  },
  "nbformat": 4,
  "nbformat_minor": 0
}

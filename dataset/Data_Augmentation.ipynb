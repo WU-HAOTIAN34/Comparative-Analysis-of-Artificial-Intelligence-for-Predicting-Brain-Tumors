{
  "cells": [
    {
      "cell_type": "markdown",
      "metadata": {
        "id": "dqIOLGX6AUUS"
      },
      "source": [
        "# Data Augmentation"
      ]
    },
    {
      "cell_type": "markdown",
      "metadata": {
        "id": "Xkg02PKlAUUX"
      },
      "source": [
        "## Import Necessary Modules"
      ]
    },
    {
      "cell_type": "code",
      "execution_count": 1,
      "metadata": {
        "id": "fVECv0lIAUUY"
      },
      "outputs": [
        {
          "name": "stderr",
          "output_type": "stream",
          "text": [
            "2024-03-18 11:42:35.206765: I tensorflow/core/util/util.cc:169] oneDNN custom operations are on. You may see slightly different numerical results due to floating-point round-off errors from different computation orders. To turn them off, set the environment variable `TF_ENABLE_ONEDNN_OPTS=0`.\n"
          ]
        }
      ],
      "source": [
        "import tensorflow as tf\n",
        "from tensorflow.keras.preprocessing.image import ImageDataGenerator\n",
        "import cv2\n",
        "import matplotlib.pyplot as plt\n",
        "from os import listdir\n",
        "import time    \n",
        "import os\n",
        "from tqdm import tqdm\n",
        "%matplotlib inline"
      ]
    },
    {
      "cell_type": "code",
      "execution_count": 2,
      "metadata": {
        "id": "qrLTOoOgAUUa"
      },
      "outputs": [],
      "source": [
        "# Time string formatting\n",
        "def hms_string(sec_elapsed):\n",
        "    h = int(sec_elapsed / (60 * 60))\n",
        "    m = int((sec_elapsed % (60 * 60)) / 60)\n",
        "    s = sec_elapsed % 60\n",
        "    return f\"{h}:{m}:{round(s,1)}\""
      ]
    },
    {
      "cell_type": "code",
      "execution_count": 3,
      "metadata": {
        "id": "-cqNpJYyAUUb"
      },
      "outputs": [],
      "source": [
        "def augment_data(file_dir, n_generated_samples, save_to_dir):\n",
        "    data_gen = ImageDataGenerator(rotation_range=15, \n",
        "                                  width_shift_range=0.1, \n",
        "                                  height_shift_range=0.1, \n",
        "                                  horizontal_flip=True, \n",
        "                                  vertical_flip=True, \n",
        "                                  fill_mode='nearest'\n",
        "                                 )\n",
        "\n",
        "    \n",
        "    for filename in listdir(file_dir):\n",
        "        # load the image\n",
        "    \n",
        "        image = cv2.imread(file_dir + '/' + filename)\n",
        "        # reshape the image\n",
        "        image = image.reshape((1,)+image.shape)\n",
        "        # prefix of the names for the generated sampels.\n",
        "        save_prefix = 'aug_' + filename[:-4]\n",
        "        # generate 'n_generated_samples' sample images\n",
        "        i=0\n",
        "        for batch in data_gen.flow(x=image, batch_size=1, save_to_dir=save_to_dir, \n",
        "                                           save_prefix=save_prefix, save_format='png'):\n",
        "            i += 1\n",
        "            if i > n_generated_samples:\n",
        "                break"
      ]
    },
    {
      "cell_type": "code",
      "execution_count": 4,
      "metadata": {
        "id": "qCl6g4BdAUUd",
        "outputId": "3ac8e0d6-02d6-4968-e981-e660126fc9e5"
      },
      "outputs": [],
      "source": [
        "def augment_image(data_path, label, aug_num):\n",
        "\n",
        "    start_time = time.time()\n",
        "\n",
        "    # path to save augmented image\n",
        "    augmented_data_path_from = os.path.join(data_path, 'cropped', 'Training')\n",
        "    augmented_data_path_to = os.path.join(data_path, 'augmented', 'Training')\n",
        "\n",
        "    for i in range(0, len(label)):\n",
        "        folder_from = os.path.join(augmented_data_path_from, label[i])\n",
        "        folder_to = os.path.join(augmented_data_path_to, label[i])\n",
        "        augment_data(file_dir=folder_from, n_generated_samples=aug_num[i], save_to_dir=folder_to)\n",
        "    \n",
        "    end_time = time.time()\n",
        "\n",
        "    execution_time = (end_time - start_time)\n",
        "    print(f\"Elapsed time: {hms_string(execution_time)}\")\n",
        "\n",
        "    data_summary(augmented_data_path_to, label)\n",
        "\n",
        "    augmented_data_path_from = os.path.join(data_path, 'cropped', 'Testing')\n",
        "    augmented_data_path_to = os.path.join(data_path, 'augmented', 'Testing')\n",
        "\n",
        "    for i in label:\n",
        "        folderPath_from = os.path.join(augmented_data_path_from,i)\n",
        "        folderPath_to = os.path.join(augmented_data_path_to,i)\n",
        "        num = 1\n",
        "        for file in tqdm(os.listdir(folderPath_from)):\n",
        "            file = cv2.imread(os.path.join(folderPath_from, file))      \n",
        "            a = str(f'{i}-{num}.png')\n",
        "            plt.imsave(os.path.join(folderPath_to, a), file, cmap='gray')\n",
        "            num = num + 1\n"
      ]
    },
    {
      "cell_type": "markdown",
      "metadata": {
        "id": "7XVDOYlsAUUg"
      },
      "source": [
        "Let's see how many glioma, meningioma and pituitary tumor examples are there after performing data augmentation:"
      ]
    },
    {
      "cell_type": "code",
      "execution_count": 5,
      "metadata": {
        "id": "bHbmcI_jAUUg"
      },
      "outputs": [],
      "source": [
        "def data_summary(main_path, label):\n",
        "    \n",
        "\n",
        "    m = 0\n",
        "    num = []\n",
        "    for i in label:\n",
        "        path = os.path.join(main_path, i)\n",
        "        num.append(len(listdir(path)))\n",
        "        m = m + len(listdir(path))\n",
        "\n",
        "    print(f\"Number of examples: {m}\")\n",
        "    for i in range(0, len(label)):\n",
        "        prec = (num[i]* 100.0) / m\n",
        "        print(f\"Percentage of {label[i]} examples: {prec}%, number of glioma examples: {num[i]}\")\n",
        "    "
      ]
    },
    {
      "cell_type": "code",
      "execution_count": 6,
      "metadata": {},
      "outputs": [
        {
          "name": "stdout",
          "output_type": "stream",
          "text": [
            "Elapsed time: 0:9:48.5\n",
            "Number of examples: 10535\n",
            "Percentage of glioma examples: 32.46321784527765%, number of glioma examples: 3420\n",
            "Percentage of meningioma examples: 32.22591362126246%, number of glioma examples: 3395\n",
            "Percentage of pituitary examples: 35.310868533459896%, number of glioma examples: 3720\n"
          ]
        },
        {
          "name": "stderr",
          "output_type": "stream",
          "text": [
            "100%|██████████| 286/286 [00:12<00:00, 23.11it/s]\n",
            "100%|██████████| 142/142 [00:06<00:00, 23.38it/s]\n",
            "100%|██████████| 186/186 [00:10<00:00, 16.98it/s]\n"
          ]
        }
      ],
      "source": [
        "augment_image('/root/autodl-tmp/dataset/figshare_MBTD', ['glioma', 'meningioma', 'pituitary'], [2, 5, 4])"
      ]
    },
    {
      "cell_type": "code",
      "execution_count": 7,
      "metadata": {
        "id": "eTLL3dIwAUUh",
        "outputId": "e4f10f3e-9947-47da-a629-9b5f34e46dc0"
      },
      "outputs": [
        {
          "name": "stdout",
          "output_type": "stream",
          "text": [
            "Elapsed time: 0:7:48.0\n",
            "Number of examples: 9794\n",
            "Percentage of glioma examples: 25.301204819277107%, number of glioma examples: 2478\n",
            "Percentage of meningioma examples: 25.178680824994895%, number of glioma examples: 2466\n",
            "Percentage of notumor examples: 24.188278537880336%, number of glioma examples: 2369\n",
            "Percentage of pituitary examples: 25.33183581784766%, number of glioma examples: 2481\n"
          ]
        },
        {
          "name": "stderr",
          "output_type": "stream",
          "text": [
            "100%|██████████| 100/100 [00:03<00:00, 30.09it/s]\n",
            "100%|██████████| 115/115 [00:02<00:00, 40.32it/s]\n",
            "100%|██████████| 105/105 [00:01<00:00, 88.77it/s]\n",
            "100%|██████████| 74/74 [00:07<00:00, 10.39it/s]\n"
          ]
        }
      ],
      "source": [
        "augment_image('/root/autodl-tmp/dataset/SARTAJ_dataset', ['glioma', 'meningioma', 'notumor', 'pituitary'], [2, 2, 5, 2])"
      ]
    },
    {
      "cell_type": "code",
      "execution_count": 8,
      "metadata": {},
      "outputs": [
        {
          "name": "stdout",
          "output_type": "stream",
          "text": [
            "Elapsed time: 0:14:29.6\n",
            "Number of examples: 19794\n",
            "Percentage of glioma examples: 26.694958068101446%, number of glioma examples: 5284\n",
            "Percentage of meningioma examples: 27.05365262200667%, number of glioma examples: 5355\n",
            "Percentage of notumor examples: 24.173992118823886%, number of glioma examples: 4785\n",
            "Percentage of pituitary examples: 22.077397191068002%, number of glioma examples: 4370\n"
          ]
        },
        {
          "name": "stderr",
          "output_type": "stream",
          "text": [
            "100%|██████████| 300/300 [00:10<00:00, 28.70it/s]\n",
            "100%|██████████| 306/306 [00:09<00:00, 32.22it/s]\n",
            "100%|██████████| 405/405 [00:06<00:00, 59.63it/s]\n",
            "100%|██████████| 300/300 [00:14<00:00, 20.95it/s]\n"
          ]
        }
      ],
      "source": [
        "augment_image('/root/autodl-tmp/dataset/Br35H+SARTAJ+figshare', ['glioma', 'meningioma', 'notumor', 'pituitary'], [3, 3, 2, 2])"
      ]
    },
    {
      "cell_type": "code",
      "execution_count": 6,
      "metadata": {},
      "outputs": [
        {
          "name": "stdout",
          "output_type": "stream",
          "text": [
            "Elapsed time: 0:7:27.1\n",
            "Number of examples: 9599\n",
            "Percentage of yes examples: 50.00520887592457%, number of glioma examples: 4800\n",
            "Percentage of no examples: 49.99479112407543%, number of glioma examples: 4799\n"
          ]
        },
        {
          "name": "stderr",
          "output_type": "stream",
          "text": [
            "100%|██████████| 300/300 [00:19<00:00, 15.20it/s]\n",
            "100%|██████████| 300/300 [00:09<00:00, 32.51it/s]\n"
          ]
        }
      ],
      "source": [
        "augment_image('/root/autodl-tmp/dataset/Br35H', ['yes', 'no'], [3, 3])"
      ]
    }
  ],
  "metadata": {
    "colab": {
      "provenance": []
    },
    "kernelspec": {
      "display_name": "Python 3",
      "language": "python",
      "name": "python3"
    },
    "language_info": {
      "codemirror_mode": {
        "name": "ipython",
        "version": 3
      },
      "file_extension": ".py",
      "mimetype": "text/x-python",
      "name": "python",
      "nbconvert_exporter": "python",
      "pygments_lexer": "ipython3",
      "version": "3.8.18"
    }
  },
  "nbformat": 4,
  "nbformat_minor": 0
}
